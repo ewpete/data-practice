{
 "cells": [
  {
   "cell_type": "code",
   "execution_count": 3,
   "metadata": {},
   "outputs": [
    {
     "name": "stdout",
     "output_type": "stream",
     "text": [
      "[[ 1.  1.]\n",
      " [ 1.  1.]]\n",
      "[[ 1.  0.  0.  0.]\n",
      " [ 0.  1.  0.  0.]\n",
      " [ 0.  0.  1.  0.]\n",
      " [ 0.  0.  0.  1.]]\n"
     ]
    }
   ],
   "source": [
    "import numpy as np\n",
    "two_by_two_ones = np.ones((2,2))\n",
    "print(two_by_two_ones)\n",
    "four_by_four_id = np.eye(4)\n",
    "print(four_by_four_id)"
   ]
  },
  {
   "cell_type": "code",
   "execution_count": 6,
   "metadata": {},
   "outputs": [
    {
     "name": "stdout",
     "output_type": "stream",
     "text": [
      "[  0.     2.99   5.98   8.97  11.96  14.95  17.94  20.93  23.92  26.91\n",
      "  29.9   32.89  35.88  38.87  41.86  44.85  47.84  50.83  53.82  56.81\n",
      "  59.8   62.79  65.78  68.77  71.76  74.75  77.74  80.73  83.72  86.71\n",
      "  89.7   92.69  95.68  98.67]\n"
     ]
    }
   ],
   "source": [
    "move_by_3 = np.arange(0, 100, 2.99)\n",
    "print(move_by_3)"
   ]
  },
  {
   "cell_type": "code",
   "execution_count": 13,
   "metadata": {},
   "outputs": [
    {
     "name": "stdout",
     "output_type": "stream",
     "text": [
      "<class 'numpy.ndarray'>\n",
      "[[8 8 8 8 8 8 8 8]\n",
      " [8 8 8 8 8 8 8 8]\n",
      " [8 8 8 8 8 8 8 8]\n",
      " [8 8 8 8 8 8 8 8]\n",
      " [8 8 8 8 8 8 8 8]\n",
      " [8 8 8 8 8 8 8 8]\n",
      " [8 8 8 8 8 8 8 8]\n",
      " [8 8 8 8 8 8 8 8]]\n"
     ]
    }
   ],
   "source": [
    "crazy_eights = np.full((8,8),8)\n",
    "print(type(crazy_eights))\n",
    "print(crazy_eights)"
   ]
  },
  {
   "cell_type": "code",
   "execution_count": 15,
   "metadata": {},
   "outputs": [
    {
     "data": {
      "text/plain": [
       "(8, 8)"
      ]
     },
     "execution_count": 15,
     "metadata": {},
     "output_type": "execute_result"
    }
   ],
   "source": [
    "crazy_eights.shape"
   ]
  },
  {
   "cell_type": "code",
   "execution_count": null,
   "metadata": {
    "collapsed": true
   },
   "outputs": [],
   "source": []
  }
 ],
 "metadata": {
  "kernelspec": {
   "display_name": "Python 3",
   "language": "python",
   "name": "python3"
  },
  "language_info": {
   "codemirror_mode": {
    "name": "ipython",
    "version": 3
   },
   "file_extension": ".py",
   "mimetype": "text/x-python",
   "name": "python",
   "nbconvert_exporter": "python",
   "pygments_lexer": "ipython3",
   "version": "3.6.1"
  }
 },
 "nbformat": 4,
 "nbformat_minor": 2
}
